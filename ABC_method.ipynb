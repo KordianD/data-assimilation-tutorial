{
 "cells": [
  {
   "cell_type": "markdown",
   "metadata": {},
   "source": [
    "# Data assimilation"
   ]
  },
  {
   "cell_type": "markdown",
   "metadata": {},
   "source": [
    "## Elfi package and ABC rejection algorithm"
   ]
  },
  {
   "cell_type": "code",
   "execution_count": null,
   "metadata": {},
   "outputs": [],
   "source": [
    "import time\n",
    "import elfi\n",
    "import numpy as np\n",
    "import scipy.stats\n",
    "import matplotlib.pyplot as plt\n",
    "\n",
    "%matplotlib inline\n",
    "%precision 2\n",
    "seed = 20170530 \n",
    "np.random.seed(seed)"
   ]
  },
  {
   "cell_type": "code",
   "execution_count": null,
   "metadata": {},
   "outputs": [],
   "source": [
    "# We set true parameters\n",
    "a = 9\n",
    "b = 5\n"
   ]
  },
  {
   "cell_type": "code",
   "execution_count": null,
   "metadata": {},
   "outputs": [],
   "source": [
    "# We define start, stop and sampling for the function\n",
    "start = 0\n",
    "stop = 100\n",
    "sampling = 0.1\n",
    "number_of_samples = int(1/sampling)\n",
    "\n",
    "full_range = np.arange(start, stop, sampling)\n",
    "all_x_range = np.array(full_range).reshape((1, len(full_range)))\n",
    "\n",
    "# we define starting and ending points, so assuming they are 0 - 20 and sampling is 0.01 we have 2000 points\n",
    "# 0, 0.01, 0.02 ... etc\n",
    "first_x_range_start, first_x_range_stop = (0, 20)\n",
    "second_x_range_start, second_x_range_stop = (20, 40)\n",
    "third_x_range_start, third_x_range_stop = (40, 60)\n",
    "\n",
    "# 0, 0.01, 0.02 .... 19.99\n",
    "first_x_data = full_range[first_x_range_start*number_of_samples : first_x_range_stop*number_of_samples]\n",
    "first_x_data = np.array(first_x_data).reshape((1, len(first_x_data)))\n",
    "\n",
    "# 20.00, 20.01, 20.02 .... 39.99\n",
    "second_x_data = full_range[second_x_range_start*number_of_samples : second_x_range_stop*number_of_samples]\n",
    "second_x_data = np.array(second_x_data).reshape((1, len(second_x_data)))\n",
    "\n",
    "# 40.00, 40.01, 40.02 .... 59.99\n",
    "third_x_data = full_range[third_x_range_start*number_of_samples:third_x_range_stop*number_of_samples]\n",
    "third_x_data = np.array(third_x_data).reshape((1, len(third_x_data)))\n"
   ]
  },
  {
   "cell_type": "code",
   "execution_count": null,
   "metadata": {},
   "outputs": [],
   "source": [
    "# This calculates y values for given range of x arguments\n",
    "def calculate_model(a, b, data):\n",
    "    \"\"\"Function needed to calculate y values based on passed data as x arguments\"\"\"\n",
    "    a = np.asanyarray(a).reshape((-1, 1))\n",
    "    b = np.asanyarray(b).reshape((-1, 1))\n",
    "    \n",
    "    x = (np.sin((2*np.pi*a*data[:, 0:])/(23*b)) + \n",
    "         np.sin((2*np.pi*a*data[:, 0:])/28) + \n",
    "         np.sin((2*np.pi*a*data[:, 0:])/33) ) * np.log(a*data[:, 0:])\n",
    "    \n",
    "    return x"
   ]
  },
  {
   "cell_type": "code",
   "execution_count": null,
   "metadata": {},
   "outputs": [],
   "source": [
    "# Plot the observed sequence for whole range\n",
    "y_obs = calculate_model(a, b, all_x_range)\n",
    "plt.figure(figsize=(11, 6));\n",
    "\n",
    "plt.plot(all_x_range[0, :], y_obs[0, :]);\n",
    "\n",
    "# Points between these lines are training points\n",
    "plt.axvline(x=second_x_range_start, color='r')\n",
    "plt.axvline(x=second_x_range_stop,  color='r')\n",
    "\n",
    "plt.xlabel('X value as an argument for model')\n",
    "plt.ylabel('Y value of the model')"
   ]
  },
  {
   "cell_type": "code",
   "execution_count": null,
   "metadata": {},
   "outputs": [],
   "source": [
    "# We plot only training part\n",
    "\n",
    "train_data = calculate_model(a, b, second_x_data)\n",
    "plt.figure(figsize=(11, 6));\n",
    "\n",
    "plt.xticks(np.arange(second_x_range_start, second_x_range_stop, 1.0))\n",
    "\n",
    "plt.plot(second_x_data[0, :], train_data[0, :])\n",
    "plt.xlabel('X value as an argument for function')\n",
    "plt.ylabel('Y value of the function')\n",
    "plt.show()"
   ]
  },
  {
   "cell_type": "code",
   "execution_count": null,
   "metadata": {},
   "outputs": [],
   "source": [
    "# This is actual function which is passed to ELFI algorithm, it fullfills interface contract \n",
    "# first parameters (a,b,... or more) are model parameters\n",
    "def model(a, b, batch_size=1, random_state=None):\n",
    "    \"\"\"Function needed to calculate y values based on passed data as x arguments\"\"\"\n",
    "    a = np.asanyarray(a).reshape((-1, 1))\n",
    "    b = np.asanyarray(b).reshape((-1, 1))\n",
    "    \n",
    "    # second_x_data are train data, they are globally defined so they are accessible here\n",
    "    x = (np.sin((2*np.pi*a*second_x_data[:, 0:])/(23*b)) + \n",
    "         np.sin((2*np.pi*a*second_x_data[:, 0:])/28) + \n",
    "         np.sin((2*np.pi*a*second_x_data[:, 0:])/33) ) * np.log(a*second_x_data[:, 0:])\n",
    "    \n",
    "    return x"
   ]
  },
  {
   "cell_type": "code",
   "execution_count": null,
   "metadata": {},
   "outputs": [],
   "source": [
    "# This parameter makes range for input parameters\n",
    "# (a-width, 2 * width) ---> from a-width to a + width\n",
    "width = 4\n",
    "\n",
    "a_param = elfi.Prior(scipy.stats.uniform, a-width, 2 * width)\n",
    "b_param = elfi.Prior(scipy.stats.uniform, b-width, 2 * width)\n",
    "\n",
    "#Define the simulator node with the MA2 model ,give the priors to it as arguments.\n",
    "Y = elfi.Simulator(model, a_param, b_param, observed=train_data)\n",
    "\n",
    "# Autocovariances as the summary statistics\n",
    "def autocov(x, lag=1):\n",
    "    C = np.mean(x[:,lag:] * x[:,:-lag], axis=1)\n",
    "    return C"
   ]
  },
  {
   "cell_type": "code",
   "execution_count": null,
   "metadata": {},
   "outputs": [],
   "source": [
    "#Summary node is defined by giving the autocovariance function and the simulated data (also includes observed data)\n",
    "S1 = elfi.Summary(autocov, Y)\n",
    "S2 = elfi.Summary(autocov, Y, 2)\n",
    "\n",
    "#Calculating the squared distance (S1_sim-S1_obs)**2 + (S2_sim-S2_obs)**2\n",
    "d = elfi.Distance('euclidean', S1, S2)\n",
    "\n",
    "\n",
    "#Inference with rejection sampling\n",
    "#batch_size defines how many simulations are performed in each passing through the graph\n",
    "batch_size = 1000\n",
    "\n",
    "# Instatiation of the Rejection Algorithm\n",
    "rej = elfi.Rejection(d, batch_size=batch_size, seed=seed)\n",
    "\n",
    "N = 1000\n",
    "%time result = rej.sample(N, quantile=0.001)\n",
    "#Print sampled means of parameters\n",
    "\n",
    "print(result)"
   ]
  },
  {
   "cell_type": "code",
   "execution_count": null,
   "metadata": {},
   "outputs": [],
   "source": [
    "#Final result of mean samples\n",
    "b_result_last = result.samples['b_param'].mean()\n",
    "a_result_last = result.samples['a_param'].mean()\n",
    "\n",
    "print(a_result_last)\n",
    "print(b_result_last)"
   ]
  },
  {
   "cell_type": "code",
   "execution_count": null,
   "metadata": {},
   "outputs": [],
   "source": [
    "y_obs = calculate_model(a, b, second_x_data)\n",
    "\n",
    "plt.figure(figsize=(11, 6))\n",
    "plt.plot(y_obs.ravel(),label=\"observed\")\n",
    "plt.plot(calculate_model(a_result_last, b_result_last, second_x_data).ravel(), label=\"simulated\")\n",
    "plt.legend(loc=\"upper left\")\n",
    "\n",
    "plt.show()"
   ]
  },
  {
   "cell_type": "code",
   "execution_count": null,
   "metadata": {},
   "outputs": [],
   "source": [
    "#Comparing observed data with simulated data on posterior parmeters (on whole data set)\n",
    "\n",
    "plt.figure(figsize=(11, 6));\n",
    "\n",
    "y_obs = calculate_model(a, b, all_x_range)\n",
    "plt.figure(figsize=(11, 6));\n",
    "plt.plot(y_obs.ravel());\n",
    "all_results_predicted = calculate_model(a_result_last, b_result_last, all_x_range)\n",
    "plt.plot(all_results_predicted.ravel());\n",
    "plt.legend(loc=\"upper left\")\n",
    "\n",
    "plt.show()"
   ]
  },
  {
   "cell_type": "code",
   "execution_count": null,
   "metadata": {},
   "outputs": [],
   "source": [
    "def calculate_error(start, stop):\n",
    "    calculate = 0\n",
    "    for i in range(start, stop, 1):\n",
    "        calculate += (y_obs[0][i] - all_results_predicted[0][i])**2\n",
    "    return calculate\n",
    "    "
   ]
  },
  {
   "cell_type": "code",
   "execution_count": null,
   "metadata": {},
   "outputs": [],
   "source": [
    "calculate_error(1, 200)"
   ]
  },
  {
   "cell_type": "code",
   "execution_count": null,
   "metadata": {},
   "outputs": [],
   "source": [
    "calculate_error(200, 400)"
   ]
  },
  {
   "cell_type": "code",
   "execution_count": null,
   "metadata": {},
   "outputs": [],
   "source": []
  }
 ],
 "metadata": {
  "kernelspec": {
   "display_name": "Python 3",
   "language": "python",
   "name": "python3"
  },
  "language_info": {
   "codemirror_mode": {
    "name": "ipython",
    "version": 3
   },
   "file_extension": ".py",
   "mimetype": "text/x-python",
   "name": "python",
   "nbconvert_exporter": "python",
   "pygments_lexer": "ipython3",
   "version": "3.7.3"
  }
 },
 "nbformat": 4,
 "nbformat_minor": 2
}
