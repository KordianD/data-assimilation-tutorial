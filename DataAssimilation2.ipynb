{
 "cells": [
  {
   "cell_type": "code",
   "execution_count": null,
   "metadata": {},
   "outputs": [],
   "source": [
    "import time\n",
    "import elfi\n",
    "import numpy as np\n",
    "import scipy.stats\n",
    "import matplotlib.pyplot as plt\n",
    "\n",
    "%matplotlib inline\n",
    "%precision 2\n",
    "\n",
    "# Set an arbitrary seed and a global random state to keep the randomly generated quantities the same between runs\n",
    "seed = 20170530  # this will be separately given to ELFI\n",
    "np.random.seed(seed)"
   ]
  },
  {
   "cell_type": "markdown",
   "metadata": {},
   "source": [
    "### Inference with ELFI: case MA(2) model 2nd order moving average model MA(2) as an example. MA(2) is a common model used in univariate time series analysis."
   ]
  },
  {
   "cell_type": "code",
   "execution_count": null,
   "metadata": {},
   "outputs": [],
   "source": [
    "def MA2(t1, t2, n_obs=100, batch_size=1, random_state=None):\n",
    "    # Make inputs 2d arrays for numpy broadcasting with w\n",
    "    t1 = np.asanyarray(t1).reshape((-1, 1))\n",
    "    t2 = np.asanyarray(t2).reshape((-1, 1))\n",
    "    random_state = random_state or np.random\n",
    "\n",
    "    w = random_state.randn(batch_size, n_obs+2)  # i.i.d. sequence ~ N(0,1)\n",
    "    x = w[:, 2:] + t1*w[:, 1:-1] + t2*w[:, :-2]\n",
    "    return x\n",
    "#Function needed to plot and to compare observation data with simulated data\n",
    "def plot_MA2(t1, t2, data):\n",
    "    t1 = np.asanyarray(t1).reshape((-1, 1))\n",
    "    t2 = np.asanyarray(t2).reshape((-1, 1))\n",
    "    \n",
    "    w = random_state.randn(batch_size, n_obs+2)  # i.i.d. sequence ~ N(0,1)\n",
    "    x = w[:, 2:] + t1*w[:, 1:-1] + t2*w[:, :-2]\n",
    "    \n",
    "    return x"
   ]
  },
  {
   "cell_type": "code",
   "execution_count": null,
   "metadata": {},
   "outputs": [],
   "source": [
    "# true parameters\n",
    "t1_true = 0.6\n",
    "t2_true = 0.2\n",
    "\n",
    "y_obs = MA2(t1_true, t2_true,n_obs=100)\n",
    "\n",
    "# Plot the observed sequence\n",
    "plt.figure(figsize=(11, 6));\n",
    "plt.plot(y_obs.ravel());\n"
   ]
  },
  {
   "cell_type": "code",
   "execution_count": null,
   "metadata": {},
   "outputs": [],
   "source": [
    "# a node is defined by giving a distribution from scipy.stats together with any arguments (here 0 and 2)\n",
    "t1_param = elfi.Prior(scipy.stats.uniform, 0, 2)\n",
    "\n",
    "# ELFI also supports giving the scipy.stats distributions as strings\n",
    "t2_param = elfi.Prior('uniform', 0, 2)"
   ]
  },
  {
   "cell_type": "code",
   "execution_count": null,
   "metadata": {},
   "outputs": [],
   "source": [
    "Y = elfi.Simulator(MA2, t1_param, t2_param, observed=y_obs)"
   ]
  },
  {
   "cell_type": "code",
   "execution_count": null,
   "metadata": {},
   "outputs": [],
   "source": [
    "def autocov(x, lag=1):\n",
    "    C = np.mean(x[:,lag:] * x[:,:-lag], axis=1)\n",
    "    return C"
   ]
  },
  {
   "cell_type": "code",
   "execution_count": null,
   "metadata": {},
   "outputs": [],
   "source": [
    "#Summary node is defined by giving the autocovariance function and the simulated data (also includes observed data)\n",
    "S1 = elfi.Summary(autocov, Y)\n",
    "S2 = elfi.Summary(autocov, Y, 2)\n",
    "#Calculating the squared distance (S1_sim-S1_obs)**2 + (S2_sim-S2_obs)**2\n",
    "d = elfi.Distance('euclidean', S1, S2)\n",
    "#Inference with rejection sampling\n",
    "rej = elfi.Rejection(d, batch_size=10000, seed=seed)\n",
    "N = 1000\n",
    "%time result = rej.sample(N, quantile=0.001)\n",
    "#Print sampled means of parameters\n",
    "print(result)"
   ]
  },
  {
   "cell_type": "code",
   "execution_count": null,
   "metadata": {},
   "outputs": [],
   "source": [
    "#Final result of mean samples\n",
    "t1_result_last = result.samples['t1_param'].mean()\n",
    "t2_result_last = result.samples['t2_param'].mean()\n",
    "#Created simulated model from mean samples\n",
    "sim_data=MA2(t1_result_last, t2_result_last)"
   ]
  },
  {
   "cell_type": "code",
   "execution_count": null,
   "metadata": {},
   "outputs": [],
   "source": [
    "#Comparing observed data with simulated data on posterior parmeters (on whole data set)\n",
    "plt.figure(figsize=(11, 6));\n",
    "plt.plot(y_obs.ravel(),label=\"observed\");\n",
    "plt.plot(sim_data.ravel(),label=\"simulated\");\n",
    "plt.legend(loc=\"upper left\")\n",
    "plt.show()"
   ]
  },
  {
   "cell_type": "code",
   "execution_count": null,
   "metadata": {},
   "outputs": [],
   "source": [
    "def calculate_error(start, stop):\n",
    "    calculate = 0\n",
    "    for i in range(start, stop, 1):\n",
    "        calculate += (y_obs[0][i] - sim_data[0][i])**2\n",
    "    return calculate"
   ]
  },
  {
   "cell_type": "code",
   "execution_count": null,
   "metadata": {},
   "outputs": [],
   "source": [
    "calculate_error(0, 100)"
   ]
  },
  {
   "cell_type": "code",
   "execution_count": null,
   "metadata": {},
   "outputs": [],
   "source": []
  }
 ],
 "metadata": {
  "kernelspec": {
   "display_name": "Python 3",
   "language": "python",
   "name": "python3"
  },
  "language_info": {
   "codemirror_mode": {
    "name": "ipython",
    "version": 3
   },
   "file_extension": ".py",
   "mimetype": "text/x-python",
   "name": "python",
   "nbconvert_exporter": "python",
   "pygments_lexer": "ipython3",
   "version": "3.6.8"
  }
 },
 "nbformat": 4,
 "nbformat_minor": 2
}
